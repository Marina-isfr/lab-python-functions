{
 "cells": [
  {
   "cell_type": "markdown",
   "id": "25d7736c-ba17-4aff-b6bb-66eba20fbf4e",
   "metadata": {
    "editable": true,
    "slideshow": {
     "slide_type": ""
    },
    "tags": []
   },
   "source": [
    "# Lab | Functions"
   ]
  },
  {
   "cell_type": "markdown",
   "id": "0c581062-8967-4d93-b06e-62833222f930",
   "metadata": {
    "tags": []
   },
   "source": [
    "## Exercise: Managing Customer Orders with Functions\n",
    "\n",
    "In the previous exercise, you improved the code for managing customer orders by using loops and flow control. Now, let's take it a step further and refactor the code by introducing functions.\n",
    "\n",
    "Follow the steps below to complete the exercise:\n",
    "\n",
    "1. Define a function named `initialize_inventory` that takes `products` as a parameter. Inside the function, implement the code for initializing the inventory dictionary using a loop and user input.\n",
    "\n",
    "2. Define a function named `get_customer_orders` that takes no parameters. Inside the function, implement the code for prompting the user to enter the product names using a loop. The function should return the `customer_orders` set.\n",
    "\n",
    "3. Define a function named `update_inventory` that takes `customer_orders` and `inventory` as parameters. Inside the function, implement the code for updating the inventory dictionary based on the customer orders.\n",
    "\n",
    "4. Define a function named `calculate_order_statistics` that takes `customer_orders` and `products` as parameters. Inside the function, implement the code for calculating the order statistics (total products ordered, and percentage of unique products ordered). The function should return these values.\n",
    "\n",
    "5. Define a function named `print_order_statistics` that takes `order_statistics` as a parameter. Inside the function, implement the code for printing the order statistics.\n",
    "\n",
    "6. Define a function named `print_updated_inventory` that takes `inventory` as a parameter. Inside the function, implement the code for printing the updated inventory.\n",
    "\n",
    "7. Call the functions in the appropriate sequence to execute the program and manage customer orders.\n",
    "\n",
    "Hints for functions:\n",
    "\n",
    "- Consider the input parameters required for each function and their return values.\n",
    "- Utilize function parameters and return values to transfer data between functions.\n",
    "- Test your functions individually to ensure they work correctly.\n",
    "\n",
    "\n"
   ]
  },
  {
   "cell_type": "code",
   "execution_count": 295,
   "id": "38d583d1-a98d-47b5-a7ae-08d81ea72f1a",
   "metadata": {},
   "outputs": [
    {
     "name": "stdin",
     "output_type": "stream",
     "text": [
      "Please enter the quantity available for t-shirt:  40\n",
      "Please enter the quantity available for mug:  100\n",
      "Please enter the quantity available for hat:  29\n",
      "Please enter the quantity available for book:  35\n",
      "Please enter the quantity available for keychain:  35\n"
     ]
    },
    {
     "name": "stdout",
     "output_type": "stream",
     "text": [
      "{'t-shirt': 40, 'mug': 100, 'hat': 29, 'book': 35, 'keychain': 35}\n"
     ]
    }
   ],
   "source": [
    "#In the previous exercise, you improved the code for managing customer orders by using loops and flow control. Now, let's take it a step further and refactor the code by introducing functions.\n",
    "#Follow the steps below to complete the exercise:\n",
    "#Define a function named initialize_inventory that takes products as a parameter. Inside the function, implement the code for initializing the inventory dictionary using a loop and user input.\n",
    "\n",
    "products = [\"t-shirt\", \"mug\", \"hat\", \"book\", \"keychain\"]\n",
    "\n",
    "def initialize_inventory (products):\n",
    "    inventory = {}\n",
    "    for product in products:\n",
    "        stock = int(input(f\"Please enter the quantity available for {product}: \"))\n",
    "        inventory[product]=stock\n",
    "    return inventory\n",
    "\n",
    "inventory = initialize_inventory(products)\n",
    "print(inventory)"
   ]
  },
  {
   "cell_type": "code",
   "execution_count": 297,
   "id": "a38204c7-dc6c-4e74-9685-17b771c6fcec",
   "metadata": {
    "scrolled": true
   },
   "outputs": [
    {
     "name": "stdin",
     "output_type": "stream",
     "text": [
      "Please enter the name of a product you want to order:  hat\n",
      "Please enter the quantity of hat you want to order:  4\n",
      "Do you want to add another product? (yes/no):  yes\n",
      "Please enter the name of a product you want to order:  book\n",
      "Please enter the quantity of book you want to order:  2\n",
      "Do you want to add another product? (yes/no):  yes\n",
      "Please enter the name of a product you want to order:  mu\n"
     ]
    },
    {
     "name": "stdout",
     "output_type": "stream",
     "text": [
      "This product is not available. Please choose from the following: {'t-shirt': 40, 'mug': 100, 'hat': 29, 'book': 35, 'keychain': 35}\n"
     ]
    },
    {
     "name": "stdin",
     "output_type": "stream",
     "text": [
      "Please enter the name of a product you want to order:  6\n"
     ]
    },
    {
     "name": "stdout",
     "output_type": "stream",
     "text": [
      "This product is not available. Please choose from the following: {'t-shirt': 40, 'mug': 100, 'hat': 29, 'book': 35, 'keychain': 35}\n"
     ]
    },
    {
     "name": "stdin",
     "output_type": "stream",
     "text": [
      "Please enter the name of a product you want to order:  no\n"
     ]
    },
    {
     "name": "stdout",
     "output_type": "stream",
     "text": [
      "This product is not available. Please choose from the following: {'t-shirt': 40, 'mug': 100, 'hat': 29, 'book': 35, 'keychain': 35}\n"
     ]
    },
    {
     "name": "stdin",
     "output_type": "stream",
     "text": [
      "Please enter the name of a product you want to order:  book\n",
      "Please enter the quantity of book you want to order:  2\n",
      "Do you want to add another product? (yes/no):  no\n"
     ]
    },
    {
     "name": "stdout",
     "output_type": "stream",
     "text": [
      "Customer orders: {'hat': 4, 'book': 2}\n",
      "{'hat': 4, 'book': 2}\n",
      "{'book', 'hat'}\n"
     ]
    }
   ],
   "source": [
    "#Define a function named get_customer_orders that takes no parameters. Inside the function, implement the code for prompting the user to enter the product names using a loop. The function should return the customer_orders set.\n",
    "\n",
    "def get_customers_orders():\n",
    "    customers_orders_set = set()\n",
    "    customers_orders = {}\n",
    "    while True:\n",
    "        product_input = input(\"Please enter the name of a product you want to order: \").lower()\n",
    "        if product_input in inventory:\n",
    "            qty_order = int(input(f\"Please enter the quantity of {product_input} you want to order: \")) \n",
    "            customers_orders_set.add(product_input)\n",
    "            customers_orders[product_input] = qty_order\n",
    "        else:\n",
    "            print(\"This product is not available. Please choose from the following:\", inventory)\n",
    "            continue\n",
    "        while True:\n",
    "            add_another = input(\"Do you want to add another product? (yes/no): \").lower() \n",
    "            if add_another == 'yes' or add_another == 'no':\n",
    "                break\n",
    "            else:\n",
    "                print(\"This answer is incorrect. Please type 'yes' or 'no'.\") \n",
    "        if add_another == 'no':\n",
    "            break\n",
    "    return customers_orders_set, customers_orders \n",
    "\n",
    "customers_orders_set, customers_orders = get_customers_orders()\n",
    "print(\"Customer orders:\", customers_orders)\n",
    "print(customers_orders)\n",
    "print(customers_orders_set)"
   ]
  },
  {
   "cell_type": "code",
   "execution_count": 298,
   "id": "77c3e1f6-d8f9-469f-b0fe-79e9c595212f",
   "metadata": {},
   "outputs": [
    {
     "name": "stdout",
     "output_type": "stream",
     "text": [
      "{'t-shirt': 40, 'mug': 100, 'hat': 25, 'book': 33, 'keychain': 35}\n"
     ]
    }
   ],
   "source": [
    "#Define a function named update_inventory that takes customer_orders and inventory as parameters. Inside the function, implement the code for updating the inventory dictionary based on the customer orders.\n",
    "\n",
    "def update_inventory(customers_orders, inventory):\n",
    "    for product, quantity_ordered in customers_orders.items():\n",
    "        inventory[product] -= quantity_ordered\n",
    "    \n",
    "    return inventory\n",
    "\n",
    "updated_inventory = update_inventory(customers_orders, inventory)\n",
    "print(updated_inventory)"
   ]
  },
  {
   "cell_type": "code",
   "execution_count": 299,
   "id": "0d2d8d92-5456-4d9e-b3a8-db909037cec6",
   "metadata": {},
   "outputs": [
    {
     "name": "stdout",
     "output_type": "stream",
     "text": [
      "10 \n",
      " 80.0\n"
     ]
    }
   ],
   "source": [
    "#Inside the function, implement the code for calculating the order statistics (total products ordered, and percentage of unique products ordered). The function should return these values.\n",
    "\n",
    "def calculate_order_statistics(customers_orders,inventory):\n",
    "    total_products_ordered = sum(customers_orders.values())\n",
    "    unique_products_ordered = len(customers_orders)\n",
    "    percentage_of_unique_products_ordered = (len(customers_orders)/ len(inventory))*100\n",
    "    return total_products_ordered, percentage_of_unique_products_ordered\n",
    "\n",
    "print (total_products_ordered, \"\\n\", percentage_of_unique_products_ordered)\n",
    "#Return total_products ordered, and percentage of unique products ordered\n",
    "    "
   ]
  },
  {
   "cell_type": "code",
   "execution_count": 306,
   "id": "f2ce5063-da79-4272-925e-e92ba8bfde0a",
   "metadata": {},
   "outputs": [
    {
     "name": "stdout",
     "output_type": "stream",
     "text": [
      "t-shirt: 40\n",
      "mug: 100\n",
      "hat: 25\n",
      "book: 33\n",
      "keychain: 35\n"
     ]
    }
   ],
   "source": [
    "#Define a function named print_order_statistics that takes order_statistics as a parameter. Inside the function, implement the code for printing the order statistics.\n",
    "def print_updated_inventory(inventory):\n",
    "    for product, quantity in inventory.items():\n",
    "        print(f\"{product}: {quantity}\")\n",
    "\n",
    "\n",
    "\n",
    "print_updated_inventory(inventory)      \n"
   ]
  },
  {
   "cell_type": "code",
   "execution_count": 308,
   "id": "3d64341a-9471-4979-b6ee-fdd1eddd6fc4",
   "metadata": {
    "editable": true,
    "slideshow": {
     "slide_type": ""
    },
    "tags": []
   },
   "outputs": [
    {
     "name": "stdin",
     "output_type": "stream",
     "text": [
      "Please enter the quantity available for t-shirt:  23\n",
      "Please enter the quantity available for mug:  46\n",
      "Please enter the quantity available for hat:  66\n",
      "Please enter the quantity available for book:  32\n",
      "Please enter the quantity available for keychain:  345\n",
      "Please enter the name of a product you want to order:  hat\n",
      "Please enter the quantity of hat you want to order:  4\n",
      "Do you want to add another product? (yes/no):  yes\n",
      "Please enter the name of a product you want to order:  mug\n",
      "Please enter the quantity of mug you want to order:  10\n",
      "Do you want to add another product? (yes/no):  book\n"
     ]
    },
    {
     "name": "stdout",
     "output_type": "stream",
     "text": [
      "Please enter 'yes' or 'no'.\n"
     ]
    },
    {
     "name": "stdin",
     "output_type": "stream",
     "text": [
      "Do you want to add another product? (yes/no):  yes\n",
      "Please enter the name of a product you want to order:  8\n"
     ]
    },
    {
     "name": "stdout",
     "output_type": "stream",
     "text": [
      "This product is not available. Please choose from the following: {'t-shirt': 23, 'mug': 46, 'hat': 66, 'book': 32, 'keychain': 345}\n"
     ]
    },
    {
     "name": "stdin",
     "output_type": "stream",
     "text": [
      "Please enter the name of a product you want to order:  book\n",
      "Please enter the quantity of book you want to order:  8\n",
      "Do you want to add another product? (yes/no):  no\n"
     ]
    },
    {
     "ename": "AttributeError",
     "evalue": "'set' object has no attribute 'items'",
     "output_type": "error",
     "traceback": [
      "\u001b[0;31m---------------------------------------------------------------------------\u001b[0m",
      "\u001b[0;31mAttributeError\u001b[0m                            Traceback (most recent call last)",
      "Cell \u001b[0;32mIn[308], line 9\u001b[0m\n\u001b[1;32m      7\u001b[0m inventory \u001b[38;5;241m=\u001b[39m initialize_inventory(products)\n\u001b[1;32m      8\u001b[0m customer_orders \u001b[38;5;241m=\u001b[39m get_customer_orders()\n\u001b[0;32m----> 9\u001b[0m inventory \u001b[38;5;241m=\u001b[39m update_inventory(customer_orders, inventory)\n\u001b[1;32m     10\u001b[0m order_statistics \u001b[38;5;241m=\u001b[39m calculate_order_statistics(customer_orders, products)\n\u001b[1;32m     11\u001b[0m print_order_statistics(order_statistics)\n",
      "Cell \u001b[0;32mIn[298], line 4\u001b[0m, in \u001b[0;36mupdate_inventory\u001b[0;34m(customers_orders, inventory)\u001b[0m\n\u001b[1;32m      3\u001b[0m \u001b[38;5;28;01mdef\u001b[39;00m \u001b[38;5;21mupdate_inventory\u001b[39m(customers_orders, inventory):\n\u001b[0;32m----> 4\u001b[0m     \u001b[38;5;28;01mfor\u001b[39;00m product, quantity_ordered \u001b[38;5;129;01min\u001b[39;00m customers_orders\u001b[38;5;241m.\u001b[39mitems():\n\u001b[1;32m      5\u001b[0m         inventory[product] \u001b[38;5;241m-\u001b[39m\u001b[38;5;241m=\u001b[39m quantity_ordered\n\u001b[1;32m      7\u001b[0m     \u001b[38;5;28;01mreturn\u001b[39;00m inventory\n",
      "\u001b[0;31mAttributeError\u001b[0m: 'set' object has no attribute 'items'"
     ]
    }
   ],
   "source": [
    "#Call the functions in the appropriate sequence to execute the program and manage customer orders.\n",
    "#Consider the input parameters required for each function and their return values.\n",
    "#Utilize function parameters and return values to transfer data between functions.\n",
    "#Test your functions individually to ensure they work correctly.\n",
    "\n",
    "products = [\"t-shirt\", \"mug\", \"hat\", \"book\", \"keychain\"]\n",
    "inventory = initialize_inventory(products)\n",
    "customer_orders = get_customer_orders()\n",
    "inventory = update_inventory(customer_orders, inventory)\n",
    "print_updated_inventory(inventory)\n",
    "order_statistics = calculate_order_statistics(customer_orders, products)\n",
    "print_order_statistics(order_statistics)\n"
   ]
  },
  {
   "cell_type": "code",
   "execution_count": null,
   "id": "5a519b41-d9f1-4197-becc-fd80b67d7a50",
   "metadata": {},
   "outputs": [],
   "source": []
  }
 ],
 "metadata": {
  "kernelspec": {
   "display_name": "Python 3 (ipykernel)",
   "language": "python",
   "name": "python3"
  },
  "language_info": {
   "codemirror_mode": {
    "name": "ipython",
    "version": 3
   },
   "file_extension": ".py",
   "mimetype": "text/x-python",
   "name": "python",
   "nbconvert_exporter": "python",
   "pygments_lexer": "ipython3",
   "version": "3.11.7"
  }
 },
 "nbformat": 4,
 "nbformat_minor": 5
}
